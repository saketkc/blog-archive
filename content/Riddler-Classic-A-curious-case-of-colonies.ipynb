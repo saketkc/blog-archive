{
 "cells": [
  {
   "cell_type": "code",
   "execution_count": 1,
   "metadata": {},
   "outputs": [
    {
     "name": "stdout",
     "output_type": "stream",
     "text": [
      "Populating the interactive namespace from numpy and matplotlib\n"
     ]
    }
   ],
   "source": [
    "%pylab inline\n",
    "import torch"
   ]
  },
  {
   "cell_type": "markdown",
   "metadata": {},
   "source": [
    "> You are studying a new strain of bacteria, Riddlerium classicum (or R. classicum, as the researchers call it). Each R. classicum bacterium will do one of two things: split into two copies of itself or die. There is an 80 percent chance of the former and a 20 percent chance of the latter.\n",
    "\n",
    "> If you start with a single R. classicum bacterium, what is the probability that it will lead to an everlasting colony (i.e., the colony will theoretically persist for an infinite amount of time)?\n",
    "\n",
    "> Extra credit: Suppose that, instead of 80 percent, each bacterium divides with probability p. Now what’s the probability that a single bacterium will lead to an everlasting colony?\n",
    "\n",
    "https://fivethirtyeight.com/features/how-long-will-the-bacterial-colony-last/"
   ]
  },
  {
   "cell_type": "markdown",
   "metadata": {},
   "source": [
    "# Strategy\n",
    "\n",
    "We will begin with the general scenario where the probability of each\n",
    "bacterium dividing is $p$.\n",
    "\n",
    "Let $P_n$ represent the probability that a single R. classicum bacterium,\n",
    "will lead to an everlasting colony. For this to happen, the first generation\n",
    "needs to succeed. This means that at least one of the first two children would\n",
    "definitely need to survive. The probability that both the two children\n",
    "do not survive is given by $(1-P_n)^2$.\n",
    "\n",
    "\n",
    "$$\n",
    "\\begin{align*}\n",
    "P_n &= p (1- (1-P_n)^2)\\\\\n",
    "P_n &= pP_n(2+P_n)\n",
    "\\end{align*}\n",
    "$$\n",
    "\n",
    "The solutions of the above equation are $P_n = 0$ or $P_n = 2- \\frac{1}{p}$. For $P_n = 2 - \\frac{1}{p}$ to be a valid probability, $P_n \\geq 0 \\implies p \\geq \\frac{1}{2}. Thus,\n",
    "\n",
    "$$\n",
    "\\begin{align*}\n",
    "P_n &= \\begin{cases}\n",
    "2-\\frac{1}{p} & p \\geq \\frac{1}{2} \\\\\n",
    "0 & p < \\frac{1}{2}\n",
    "\\end{cases}\n",
    "\\end{align*}\n",
    "$$\n",
    "\n",
    "Essentially, if the death probability is at least $0.5$, then it is\n",
    "improbably for the colony to keep growing. \n",
    "\n",
    "For $p=0.8$, $P_n = 0.75$."
   ]
  },
  {
   "cell_type": "code",
   "execution_count": null,
   "metadata": {},
   "outputs": [],
   "source": []
  }
 ],
 "metadata": {
  "kernelspec": {
   "display_name": "Python [conda env:pytorch]",
   "language": "python",
   "name": "conda-env-pytorch-py"
  },
  "language_info": {
   "codemirror_mode": {
    "name": "ipython",
    "version": 3
   },
   "file_extension": ".py",
   "mimetype": "text/x-python",
   "name": "python",
   "nbconvert_exporter": "python",
   "pygments_lexer": "ipython3",
   "version": "3.7.6"
  }
 },
 "nbformat": 4,
 "nbformat_minor": 4
}
